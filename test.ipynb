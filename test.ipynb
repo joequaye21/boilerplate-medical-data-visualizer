{
 "cells": [
  {
   "cell_type": "code",
   "execution_count": 25,
   "metadata": {},
   "outputs": [],
   "source": [
    "import pandas as pd\n",
    "import seaborn as sns\n",
    "import matplotlib.pyplot as plt\n",
    "import numpy as np"
   ]
  },
  {
   "cell_type": "code",
   "execution_count": 26,
   "metadata": {},
   "outputs": [],
   "source": [
    "df = pd.read_csv(\"medical_examination.csv\")"
   ]
  },
  {
   "cell_type": "code",
   "execution_count": 27,
   "metadata": {},
   "outputs": [],
   "source": [
    "df['overweight'] = np.where((df[\"weight\"]/np.square(df[\"height\"]/100))>25,1,0)\n"
   ]
  },
  {
   "cell_type": "code",
   "execution_count": 28,
   "metadata": {},
   "outputs": [],
   "source": [
    "df[\"cholesterol\"]=np.where(df[\"cholesterol\"]==1,0,1)\n",
    "df[\"gluc\"]=np.where(df[\"gluc\"]==1,0,1)"
   ]
  },
  {
   "cell_type": "code",
   "execution_count": 67,
   "metadata": {},
   "outputs": [],
   "source": [
    "def draw_cat_plot():\n",
    "    # Create DataFrame for cat plot using `pd.melt` using just the values from 'cholesterol', 'gluc', 'smoke', 'alco', 'active', and 'overweight'.\n",
    "    df_cat = pd.melt(df,id_vars=[\"cardio\"],value_vars=[\"active\",\"alco\",\"cholesterol\",\"gluc\",\"overweight\",\"smoke\"])\n",
    "\n",
    "\n",
    "    # Group and reformat the data to split it by 'cardio'. Show the counts of each feature. You will have to rename one of the columns for the catplot to work correctly.\n",
    "    df_cat = sns.catplot(x=\"variable\", kind=\"count\", hue=\"value\", data=df_cat.astype(float), col=\"cardio\")\n",
    "    \n",
    "    \n",
    "    # Draw the catplot with 'sns.catplot()'\n",
    "    plt.xlabel(\"variable\")\n",
    "    plt.ylabel(\"total\")\n",
    "\n",
    "    # Get the figure for the output\n",
    "    fig = df_cat\n",
    "\n",
    "\n",
    "    # Do not modify the next two lines\n",
    "    fig.savefig('catplot.png')\n",
    "    return fig\n"
   ]
  },
  {
   "cell_type": "code",
   "execution_count": 55,
   "metadata": {},
   "outputs": [],
   "source": [
    "def draw_heat_map():\n",
    "    # Clean the data\n",
    "    df_heat = df[(df[\"ap_lo\"]<=df[\"ap_hi\"])&\n",
    "    (df[\"height\"]>=df[\"height\"].quantile(0.025))&\n",
    "    (df[\"height\"]<=df[\"height\"].quantile(0.975))&\n",
    "    (df[\"weight\"]>=df[\"weight\"].quantile(0.025))&\n",
    "    (df[\"weight\"]<=df[\"weight\"].quantile(0.975))\n",
    "    ]\n",
    "\n",
    "    # Calculate the correlation matrix\n",
    "    corr = df_heat.corr()\n",
    "\n",
    "    # Generate a mask for the upper triangle\n",
    "    mask = np.triu(np.ones_like(corr,dtype=bool))\n",
    "\n",
    "    # Set up the matplotlib figure\n",
    "    fig, ax = plt.subplots(figsize=(12,12))\n",
    "\n",
    "    # Draw the heatmap with 'sns.heatmap()'\n",
    "    sns.heatmap(corr,vmin=0,vmax=0.25,fmt=\".If\",\n",
    "    linewidth=1,annot=True,square=True,maske=mask,cbar_kws={\"shrink\":.82})\n",
    "\n",
    "    # Do not modify the next two lines\n",
    "    fig.savefig('heatmap.png')\n",
    "    return fig\n"
   ]
  }
 ],
 "metadata": {
  "kernelspec": {
   "display_name": ".venv",
   "language": "python",
   "name": "python3"
  },
  "language_info": {
   "codemirror_mode": {
    "name": "ipython",
    "version": 3
   },
   "file_extension": ".py",
   "mimetype": "text/x-python",
   "name": "python",
   "nbconvert_exporter": "python",
   "pygments_lexer": "ipython3",
   "version": "3.10.12"
  }
 },
 "nbformat": 4,
 "nbformat_minor": 2
}
